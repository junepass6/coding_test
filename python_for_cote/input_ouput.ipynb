{
 "cells": [
  {
   "cell_type": "markdown",
   "metadata": {},
   "source": [
    "<h1>입력\n",
    "\n",
    "<h2>\n",
    "1. 데이터의 개수</br>\n",
    "2. 데이터(정보: 자료형, 구분자...)"
   ]
  },
  {
   "cell_type": "markdown",
   "metadata": {},
   "source": [
    ">함수</br>\n",
    "- input(): 한 줄의 문자열을 입력</br>\n",
    "- int(): 문자열을 정수로 변환</br>\n",
    "- split(): 구분자를 기준으로 문자열을 구분</br>\n",
    "    - 구분자를 입력하지 않으면 공백을 기준으로 함</br>\n",
    "    - ex) (','): \",\"을 기준으로 함</br>\n",
    "- map(변환함수, data): data에 변환함수를 적용하여 다른 형태의 data 반환 </br>\n",
    "- list(): 자료형을 list로 변환</br>\n",
    "</br>\n",
    "</br>\n",
    "- sort(): 올림차순으로 정렬</br>\n",
    "    - (revers = True): 내림차순으로 정렬</br>\n",
    "</br>\n",
    "</br>\n",
    "- readline(): 한 줄씩 읽어온다\n",
    "- rstrip(): 인자로 전달된 문자를 제거\n",
    "    - 인자를 입력하지 않으면 공백을 제거\n"
   ]
  },
  {
   "cell_type": "markdown",
   "metadata": {},
   "source": [
    "<h3>입력을 위한 전형적인 소스코드"
   ]
  },
  {
   "cell_type": "code",
   "execution_count": 1,
   "metadata": {},
   "outputs": [
    {
     "name": "stdout",
     "output_type": "stream",
     "text": [
      "[99, 90, 75, 65, 34]\n"
     ]
    }
   ],
   "source": [
    "#데이터의 개수 입력\n",
    "n = int(input())\n",
    "#각 데이터를 공백으로 구분하여 입력\n",
    "data = list(map(int, input().split()))\n",
    "\n",
    "data.sort(reverse = True)\n",
    "print(data)\n"
   ]
  },
  {
   "cell_type": "markdown",
   "metadata": {},
   "source": [
    "<h3>공백을 기준으로 구분하여 적은 수의 데이터 입력"
   ]
  },
  {
   "cell_type": "code",
   "execution_count": 3,
   "metadata": {},
   "outputs": [
    {
     "name": "stdout",
     "output_type": "stream",
     "text": [
      "3 5 9\n"
     ]
    }
   ],
   "source": [
    "#n, m, k를 공백으로 구분하여 입력\n",
    "n, m, k = map(int, input().split())\n",
    "\n",
    "print(n, m, k)\n"
   ]
  },
  {
   "cell_type": "markdown",
   "metadata": {},
   "source": [
    "<h3>readline() 사용 소스코드 예시</br>\n",
    "<h4>- 단, jupyter notebook에서 작동하지 않음.</br>\n",
    ">참고: https://velog.io/@yeseolee/Python-%ED%8C%8C%EC%9D%B4%EC%8D%AC-%EC%9E%85%EB%A0%A5-%EC%A0%95%EB%A6%ACsys.stdin.readline"
   ]
  },
  {
   "cell_type": "code",
   "execution_count": 8,
   "metadata": {},
   "outputs": [
    {
     "name": "stdout",
     "output_type": "stream",
     "text": [
      "<built-in method rstrip of str object at 0x00000216A9BE51B0>\n"
     ]
    }
   ],
   "source": [
    "import sys\n",
    "\n",
    "#문자열 입력받기\n",
    "data = sys.stdin.readline().rstrip\n",
    "print(data)"
   ]
  },
  {
   "cell_type": "markdown",
   "metadata": {},
   "source": [
    "<h1>출력"
   ]
  },
  {
   "cell_type": "markdown",
   "metadata": {},
   "source": [
    ">함수</br>\n",
    "- print(): 변수나 상수를 매개변수로 입력받아 이를 표준 출력으로 출력</br>"
   ]
  },
  {
   "cell_type": "markdown",
   "metadata": {},
   "source": [
    "<h3>변수 출력 예시"
   ]
  },
  {
   "cell_type": "code",
   "execution_count": 12,
   "metadata": {},
   "outputs": [
    {
     "name": "stdout",
     "output_type": "stream",
     "text": [
      "1 2\n"
     ]
    }
   ],
   "source": [
    "#출력할 변수들\n",
    "a = 1\n",
    "b = 2\n",
    "\n",
    "print(a, b)"
   ]
  },
  {
   "cell_type": "markdown",
   "metadata": {},
   "source": [
    "<h3>출력 줄 바꿈 예시"
   ]
  },
  {
   "cell_type": "code",
   "execution_count": 13,
   "metadata": {},
   "outputs": [
    {
     "name": "stdout",
     "output_type": "stream",
     "text": [
      "1\n",
      "2\n"
     ]
    }
   ],
   "source": [
    "#출력할 변수들\n",
    "a = 1\n",
    "b = 2\n",
    "\n",
    "print(a)\n",
    "print(b)"
   ]
  },
  {
   "cell_type": "markdown",
   "metadata": {},
   "source": [
    "<h3>변수를 문자열로 바꾸어 출력하는 소스코드 예시"
   ]
  },
  {
   "cell_type": "code",
   "execution_count": 14,
   "metadata": {},
   "outputs": [
    {
     "name": "stdout",
     "output_type": "stream",
     "text": [
      "정답은 7입니다.\n"
     ]
    }
   ],
   "source": [
    "#출력할 변수들\n",
    "answer = 7\n",
    "\n",
    "print(\"정답은 \" + str(answer) + \"입니다.\")"
   ]
  },
  {
   "cell_type": "markdown",
   "metadata": {},
   "source": [
    "<h3>각 변수를 콤마(,)로 구분하여 출력하는 소스코드 예시"
   ]
  },
  {
   "cell_type": "code",
   "execution_count": 15,
   "metadata": {},
   "outputs": [
    {
     "name": "stdout",
     "output_type": "stream",
     "text": [
      "정답은  7 입니다.\n"
     ]
    }
   ],
   "source": [
    "#출력할 변수들\n",
    "answer = 7\n",
    "\n",
    "print(\"정답은 \", answer, \"입니다.\")"
   ]
  },
  {
   "cell_type": "markdown",
   "metadata": {},
   "source": [
    "<h3>f-string 문법을 사용하여 출력하는 소스코드 예시"
   ]
  },
  {
   "cell_type": "code",
   "execution_count": 16,
   "metadata": {},
   "outputs": [
    {
     "name": "stdout",
     "output_type": "stream",
     "text": [
      "정답은 7입니다.\n"
     ]
    }
   ],
   "source": [
    "answer = 7\n",
    "print(f\"정답은 {answer}입니다.\")"
   ]
  }
 ],
 "metadata": {
  "interpreter": {
   "hash": "48c9942c2d74a0330b80b121b061c9f12a52c0464d938edaeebe5b8d9192ba29"
  },
  "kernelspec": {
   "display_name": "Python 3.9.7 64-bit ('base': conda)",
   "language": "python",
   "name": "python3"
  },
  "language_info": {
   "codemirror_mode": {
    "name": "ipython",
    "version": 3
   },
   "file_extension": ".py",
   "mimetype": "text/x-python",
   "name": "python",
   "nbconvert_exporter": "python",
   "pygments_lexer": "ipython3",
   "version": "3.7.11"
  },
  "orig_nbformat": 4
 },
 "nbformat": 4,
 "nbformat_minor": 2
}
