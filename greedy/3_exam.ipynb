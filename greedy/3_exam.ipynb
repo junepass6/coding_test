{
 "cells": [
  {
   "cell_type": "code",
   "execution_count": 1,
   "metadata": {},
   "outputs": [],
   "source": [
    "n, m, k = map(int, input().split())\n",
    "data = list(map(int, input().split()))"
   ]
  },
  {
   "cell_type": "code",
   "execution_count": 2,
   "metadata": {},
   "outputs": [
    {
     "name": "stdout",
     "output_type": "stream",
     "text": [
      "5 8 3\n",
      "[2, 4, 5, 4, 6]\n"
     ]
    }
   ],
   "source": [
    "print(n, m, k)\n",
    "print(data)"
   ]
  },
  {
   "cell_type": "code",
   "execution_count": 3,
   "metadata": {},
   "outputs": [
    {
     "data": {
      "text/plain": [
       "[2, 4, 4, 5, 6]"
      ]
     },
     "execution_count": 3,
     "metadata": {},
     "output_type": "execute_result"
    }
   ],
   "source": [
    "data.sort()\n",
    "data"
   ]
  },
  {
   "cell_type": "code",
   "execution_count": 5,
   "metadata": {},
   "outputs": [
    {
     "name": "stdout",
     "output_type": "stream",
     "text": [
      "6 5\n"
     ]
    }
   ],
   "source": [
    "big_1 = data[n-1]\n",
    "big_2 = data[n-2]\n",
    "print(big_1, big_2)"
   ]
  },
  {
   "cell_type": "code",
   "execution_count": 17,
   "metadata": {},
   "outputs": [
    {
     "name": "stdout",
     "output_type": "stream",
     "text": [
      "6\n"
     ]
    }
   ],
   "source": [
    "result = 0\n",
    "i = 1\n",
    "while i <= 3:\n",
    "    result += i\n",
    "    i += 1\n",
    "print(result) "
   ]
  },
  {
   "cell_type": "code",
   "execution_count": 24,
   "metadata": {},
   "outputs": [
    {
     "name": "stdout",
     "output_type": "stream",
     "text": [
      "1 big_1- 1 6\n",
      "2 big_1- 2 12\n",
      "3 big_1- 3 18\n",
      ">>>>>>> 4 big_2 23\n",
      "5 big_1- 1 29\n",
      "6 big_1- 2 35\n",
      "7 big_1- 3 41\n",
      ">>>>>>> 8 big_2 46\n",
      "46\n"
     ]
    }
   ],
   "source": [
    "result = 0\n",
    "i = 0\n",
    "while i < m:\n",
    "    for j in range(k):\n",
    "        result += big_1\n",
    "        i += 1 \n",
    "        j += 1 \n",
    "        print(i, \"big_1-\",j, result)\n",
    "    result += big_2\n",
    "    i += 1\n",
    "    print(\">>>>>>>\", i, \"big_2\", result)\n",
    "    \n",
    "print(result)\n",
    "    "
   ]
  },
  {
   "cell_type": "code",
   "execution_count": 5,
   "metadata": {},
   "outputs": [
    {
     "name": "stdout",
     "output_type": "stream",
     "text": [
      "28\n"
     ]
    }
   ],
   "source": [
    "n, m, k = map(int, input().split())\n",
    "data = list(map(int, input().split()))\n",
    "\n",
    "data.sort()\n",
    "big_1 = data[n-1]\n",
    "big_2 = data[n-2]\n",
    "\n",
    "result = 0\n",
    "i = 0\n",
    "while i < m:\n",
    "    for j in range(k):\n",
    "        result += big_1\n",
    "        i += 1 \n",
    "        j += 1 \n",
    "        #print(i, \"big_1-\",j, result)\n",
    "        if i == m:\n",
    "            break;\n",
    "        else:\n",
    "            result += big_2\n",
    "            i += 1\n",
    "            #print(\">>>>>>>\", i, \"big_2\", result)\n",
    "    \n",
    "print(result)"
   ]
  },
  {
   "cell_type": "code",
   "execution_count": 5,
   "metadata": {},
   "outputs": [
    {
     "name": "stdout",
     "output_type": "stream",
     "text": [
      "1 big_1- 0 4\n",
      ">>>>>>> 2 big_2 8\n",
      "3 big_1- 1 12\n",
      ">>>>>>> 4 big_2 16\n",
      "5 big_1- 0 20\n",
      ">>>>>>> 6 big_2 24\n",
      "7 big_1- 1 28\n",
      "28\n"
     ]
    }
   ],
   "source": [
    "n, m, k = map(int, input().split())\n",
    "data = list(map(int, input().split()))\n",
    "\n",
    "data.sort()\n",
    "big_1 = data[n-1]\n",
    "big_2 = data[n-2]\n",
    " \n",
    "result = 0\n",
    "i = 0\n",
    "while i < m:\n",
    "    for j in range(k):\n",
    "        result += big_1\n",
    "        i += 1 \n",
    "        print(i, \"big_1-\",j, result)\n",
    "        if i == m:\n",
    "            break;\n",
    "        else:\n",
    "            result += big_2\n",
    "            i += 1\n",
    "            print(\">>>>>>>\", i, \"big_2\", result)\n",
    "    \n",
    "print(result)"
   ]
  },
  {
   "cell_type": "code",
   "execution_count": 7,
   "metadata": {},
   "outputs": [
    {
     "data": {
      "text/plain": [
       "4"
      ]
     },
     "execution_count": 7,
     "metadata": {},
     "output_type": "execute_result"
    }
   ],
   "source": [
    "8 // 2"
   ]
  },
  {
   "cell_type": "code",
   "execution_count": 20,
   "metadata": {},
   "outputs": [
    {
     "name": "stdout",
     "output_type": "stream",
     "text": [
      "3\n"
     ]
    }
   ],
   "source": [
    "n, m = map(int, input().split())\n",
    "\n",
    "box = []\n",
    "for i in range(n):\n",
    "    data = list(map(int, input().split()))\n",
    "    box.append(min(data))\n",
    "print(max(box))\n"
   ]
  },
  {
   "cell_type": "code",
   "execution_count": 12,
   "metadata": {},
   "outputs": [
    {
     "name": "stdout",
     "output_type": "stream",
     "text": [
      "None\n"
     ]
    }
   ],
   "source": [
    "a_list = []\n",
    "b = 3\n",
    "c = a_list.append(3)\n",
    "print(c)\n",
    "\n"
   ]
  },
  {
   "cell_type": "code",
   "execution_count": 19,
   "metadata": {},
   "outputs": [
    {
     "data": {
      "text/plain": [
       "3"
      ]
     },
     "execution_count": 19,
     "metadata": {},
     "output_type": "execute_result"
    }
   ],
   "source": [
    "a = [1, 3]\n",
    "max(a)"
   ]
  },
  {
   "cell_type": "code",
   "execution_count": null,
   "metadata": {},
   "outputs": [],
   "source": []
  }
 ],
 "metadata": {
  "interpreter": {
   "hash": "48c9942c2d74a0330b80b121b061c9f12a52c0464d938edaeebe5b8d9192ba29"
  },
  "kernelspec": {
   "display_name": "Python 3.9.7 64-bit ('base': conda)",
   "language": "python",
   "name": "python3"
  },
  "language_info": {
   "codemirror_mode": {
    "name": "ipython",
    "version": 3
   },
   "file_extension": ".py",
   "mimetype": "text/x-python",
   "name": "python",
   "nbconvert_exporter": "python",
   "pygments_lexer": "ipython3",
   "version": "3.7.11"
  },
  "orig_nbformat": 4
 },
 "nbformat": 4,
 "nbformat_minor": 2
}
